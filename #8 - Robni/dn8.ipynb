{
 "cells": [
  {
   "cell_type": "code",
   "execution_count": null,
   "metadata": {},
   "outputs": [],
   "source": [
    "import numpy as np\n",
    "import matplotlib.pyplot as plt\n",
    "plt.rcParams.update({'text.usetex':True, 'font.family':'serif', 'font.size':12})\n",
    "%matplotlib widget\n",
    "from numpy import linalg as LA\n",
    "from scipy.linalg import eigh_tridiagonal\n",
    "from scipy.optimize import fsolve\n",
    "import matplotlib as mpl\n",
    "from matplotlib.collections import LineCollection"
   ]
  },
  {
   "cell_type": "code",
   "execution_count": null,
   "metadata": {},
   "outputs": [],
   "source": [
    "def rku4( f, x0, t, *arg, **kw ):\n",
    "    \"\"\"Fourth-order Runge-Kutta method to solve x' = f(x,t) with x(t[0]) = x0.\n",
    "\n",
    "    USAGE:\n",
    "        x = rku4(f, x0, t)\n",
    "\n",
    "    INPUT:\n",
    "        f     - function of x and t equal to dx/dt.  x may be multivalued,\n",
    "                in which case it should be a list or a NumPy array.  In this\n",
    "                case f must return a NumPy array with the same dimension\n",
    "                as x.\n",
    "        x0    - the initial condition(s).  Specifies the value of x when\n",
    "                t = t[0].  Can be either a scalar or a list or NumPy array\n",
    "                if a system of equations is being solved.\n",
    "        t     - list or NumPy array of t values to compute solution at.\n",
    "                t[0] is the the initial condition point, and the difference\n",
    "                h=t[i+1]-t[i] determines the step size h.\n",
    "\n",
    "    OUTPUT:\n",
    "        x     - NumPy array containing solution values corresponding to each\n",
    "                entry in t array.  If a system is being solved, x will be\n",
    "                an array of arrays.\n",
    "    \"\"\"\n",
    "\n",
    "    n = len( t )\n",
    "    x = np.array( [ x0 ] * n )\n",
    "    for i in range( n - 1 ):\n",
    "        h = t[i+1] - t[i]\n",
    "        k1 = h * f( x[i], t[i], *arg, **kw )\n",
    "        k2 = h * f( x[i] + 0.5 * k1, t[i] + 0.5 * h, *arg, **kw )\n",
    "        k3 = h * f( x[i] + 0.5 * k2, t[i] + 0.5 * h, *arg, **kw )\n",
    "        k4 = h * f( x[i] + k3, t[i+1], *arg, **kw )\n",
    "        x[i+1] = x[i] + ( k1 + 2.0 * ( k2 + k3 ) + k4 ) / 6.0\n",
    "\n",
    "    return x"
   ]
  },
  {
   "cell_type": "code",
   "execution_count": null,
   "metadata": {},
   "outputs": [],
   "source": [
    "# brezdimenzijska SSE za neskončno pot. jamo, E lastna vrednost\n",
    "\n",
    "def SSE(koord, x, E):\n",
    "    y, y_odv = koord\n",
    "    dydt = np.array([y_odv, -E*y])\n",
    "    return dydt"
   ]
  },
  {
   "cell_type": "code",
   "execution_count": null,
   "metadata": {},
   "outputs": [],
   "source": [
    "# strelska metoda\n",
    "\n",
    "E_s = np.arange(0., 250., 0.1)\n",
    "E_l = np.arange(0, 200., 0.1)\n",
    "zac_s = np.array([1., 0.]) # zac pogoj za sode lastne funkcije\n",
    "zac_l = np.array([0., 1.]) # zac pogoj za lihe lastne funkcije\n",
    "x = np.arange(0., 0.5, 0.0001)"
   ]
  },
  {
   "cell_type": "code",
   "execution_count": null,
   "metadata": {},
   "outputs": [],
   "source": [
    "sol_s = np.zeros((len(E_s), len(x))) # sode rešitve\n",
    "for i in range(len(E_s)):\n",
    "    sol_s[i] = rku4(SSE, zac_s, x, E_s[i])[:, 0]"
   ]
  },
  {
   "cell_type": "code",
   "execution_count": null,
   "metadata": {},
   "outputs": [],
   "source": [
    "sol_l = np.zeros((len(E_l), len(x))) # lihe rešitve\n",
    "for i in range(len(E_l)):\n",
    "    sol_l[i] = rku4(SSE, zac_l, x, E_l[i])[:, 0]"
   ]
  },
  {
   "cell_type": "code",
   "execution_count": null,
   "metadata": {},
   "outputs": [],
   "source": [
    "## diferencna metoda\n",
    "\n",
    "def matrika(N):  # konstruira tridiagonalno matriko velikosti N\n",
    "    return np.diag(-np.ones(N-1), -1) + np.diag(np.ones(N)*(2)) + np.diag(-np.ones(N-1), 1)"
   ]
  },
  {
   "cell_type": "code",
   "execution_count": null,
   "metadata": {},
   "outputs": [],
   "source": [
    "l, vekt = LA.eigh(matrika(5000))"
   ]
  },
  {
   "cell_type": "code",
   "execution_count": null,
   "metadata": {},
   "outputs": [],
   "source": [
    "print(l[0]*25000000)\n",
    "print(l[1]*25000000)\n",
    "print(l[2]*25000000)\n",
    "print(l[3]*25000000)\n",
    "print(l[4]*25000000)"
   ]
  }
 ],
 "metadata": {
  "kernelspec": {
   "display_name": "base",
   "language": "python",
   "name": "python3"
  },
  "language_info": {
   "name": "python",
   "version": "3.9.12"
  }
 },
 "nbformat": 4,
 "nbformat_minor": 2
}
